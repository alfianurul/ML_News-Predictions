{
 "cells": [
  {
   "cell_type": "markdown",
   "metadata": {},
   "source": [
    "# News Classification\n",
    "\n",
    "Dataset     :   BBC News (https://www.kaggle.com/datasets/balatmak/newsgroup20bbcnews)</br>\n",
    "Deskripsi   :   Membuat model klasifikasi berita BBC</br>\n",
    "Problem     :   Multiclass Classification"
   ]
  },
  {
   "cell_type": "markdown",
   "metadata": {},
   "source": [
    "## Import Modules and Load Data"
   ]
  },
  {
   "cell_type": "code",
   "execution_count": 13,
   "metadata": {},
   "outputs": [
    {
     "name": "stderr",
     "output_type": "stream",
     "text": [
      "[nltk_data] Downloading package stopwords to\n",
      "[nltk_data]     C:\\Users\\alf\\AppData\\Roaming\\nltk_data...\n",
      "[nltk_data]   Package stopwords is already up-to-date!\n"
     ]
    }
   ],
   "source": [
    "import pandas as pd\n",
    "import tensorflow as tf\n",
    "import seaborn as sns\n",
    "import re\n",
    "\n",
    "from sklearn.model_selection import train_test_split\n",
    "from tensorflow.keras.preprocessing.text import Tokenizer\n",
    "from tensorflow.keras.preprocessing.sequence import pad_sequences\n",
    "\n",
    "import nltk\n",
    "nltk.download('stopwords')\n",
    "from nltk.corpus import stopwords\n",
    "STOPWORDS = set(stopwords.words('english'))\n",
    "from nltk import word_tokenize"
   ]
  },
  {
   "cell_type": "markdown",
   "metadata": {},
   "source": [
    "Load data"
   ]
  },
  {
   "cell_type": "code",
   "execution_count": 14,
   "metadata": {},
   "outputs": [
    {
     "data": {
      "text/html": [
       "<div>\n",
       "<style scoped>\n",
       "    .dataframe tbody tr th:only-of-type {\n",
       "        vertical-align: middle;\n",
       "    }\n",
       "\n",
       "    .dataframe tbody tr th {\n",
       "        vertical-align: top;\n",
       "    }\n",
       "\n",
       "    .dataframe thead th {\n",
       "        text-align: right;\n",
       "    }\n",
       "</style>\n",
       "<table border=\"1\" class=\"dataframe\">\n",
       "  <thead>\n",
       "    <tr style=\"text-align: right;\">\n",
       "      <th></th>\n",
       "      <th>category</th>\n",
       "      <th>text</th>\n",
       "    </tr>\n",
       "  </thead>\n",
       "  <tbody>\n",
       "    <tr>\n",
       "      <th>0</th>\n",
       "      <td>tech</td>\n",
       "      <td>tv future in the hands of viewers with home th...</td>\n",
       "    </tr>\n",
       "    <tr>\n",
       "      <th>1</th>\n",
       "      <td>business</td>\n",
       "      <td>worldcom boss  left books alone  former worldc...</td>\n",
       "    </tr>\n",
       "  </tbody>\n",
       "</table>\n",
       "</div>"
      ],
      "text/plain": [
       "   category                                               text\n",
       "0      tech  tv future in the hands of viewers with home th...\n",
       "1  business  worldcom boss  left books alone  former worldc..."
      ]
     },
     "execution_count": 14,
     "metadata": {},
     "output_type": "execute_result"
    }
   ],
   "source": [
    "df = pd.read_csv('bbc-text.csv')\n",
    "df.head(2)"
   ]
  },
  {
   "cell_type": "code",
   "execution_count": 15,
   "metadata": {},
   "outputs": [
    {
     "name": "stdout",
     "output_type": "stream",
     "text": [
      "<class 'pandas.core.frame.DataFrame'>\n",
      "RangeIndex: 2225 entries, 0 to 2224\n",
      "Data columns (total 2 columns):\n",
      " #   Column    Non-Null Count  Dtype \n",
      "---  ------    --------------  ----- \n",
      " 0   category  2225 non-null   object\n",
      " 1   text      2225 non-null   object\n",
      "dtypes: object(2)\n",
      "memory usage: 34.9+ KB\n"
     ]
    }
   ],
   "source": [
    "# Make sure the description is string\n",
    "df['text'] = df['text'].astype(str)\n",
    "df.info()"
   ]
  },
  {
   "cell_type": "code",
   "execution_count": 16,
   "metadata": {},
   "outputs": [],
   "source": [
    "# Create function to clean description with regular expression\n",
    "\n",
    "STOPWORDS = set(stopwords.words('english')) # Set stopword\n",
    "    \n",
    "def clean_desc(description):\n",
    "    #remove urls\n",
    "    text1 = re.sub('http[s]?\\://\\S+','', description.lower())\n",
    "    \n",
    "    #remove numbers\n",
    "    text2 = re.sub(r'[0-9]', '', text1)\n",
    "    \n",
    "    # only take letters\n",
    "    text3 = re.sub('\\W+',' ', text2)\n",
    "    \n",
    "    # remove extra spaces\n",
    "    text4 = re.sub('\\s+',' ', text3)\n",
    "    \n",
    "    # remove stopwords\n",
    "    cleanstr = ' '.join(word for word in text4.split() if word not in STOPWORDS)\n",
    "    \n",
    "    return cleanstr"
   ]
  },
  {
   "cell_type": "code",
   "execution_count": 17,
   "metadata": {},
   "outputs": [
    {
     "data": {
      "text/plain": [
       "array(['tech', 'business', 'sport', 'entertainment', 'politics'],\n",
       "      dtype=object)"
      ]
     },
     "execution_count": 17,
     "metadata": {},
     "output_type": "execute_result"
    }
   ],
   "source": [
    "df['category'].unique()"
   ]
  },
  {
   "cell_type": "markdown",
   "metadata": {},
   "source": [
    "There are 5 categories/classes existing in the dataset."
   ]
  },
  {
   "cell_type": "code",
   "execution_count": 18,
   "metadata": {},
   "outputs": [],
   "source": [
    "# Apply clean_desc function\n",
    "\n",
    "df['text'] = df['text'].apply(clean_desc)"
   ]
  },
  {
   "cell_type": "code",
   "execution_count": 19,
   "metadata": {},
   "outputs": [
    {
     "name": "stdout",
     "output_type": "stream",
     "text": [
      "Maximum sequence length in the list of sentences: 16135\n"
     ]
    }
   ],
   "source": [
    "# Check Max length of text\n",
    "words = []\n",
    "\n",
    "for i in df['text']:\n",
    "    words.append(i)\n",
    "\n",
    "maxwords = max([len(w) for w in words])\n",
    "\n",
    "print ('Maximum sequence length in the list of sentences:', maxwords)"
   ]
  },
  {
   "cell_type": "code",
   "execution_count": 20,
   "metadata": {},
   "outputs": [
    {
     "data": {
      "text/plain": [
       "Text(0.5, 0, 'Category')"
      ]
     },
     "execution_count": 20,
     "metadata": {},
     "output_type": "execute_result"
    },
    {
     "data": {
      "image/png": "[encoded data removed]",
      "text/plain": [
       "<Figure size 432x288 with 1 Axes>"
      ]
     },
     "metadata": {
      "needs_background": "light"
     },
     "output_type": "display_data"
    }
   ],
   "source": [
    "# Create simple barchart\n",
    "dfbarchart = df.groupby(['category']).count().reset_index()\n",
    "dfbarchart.columns = ['Category', 'Count of Category']\n",
    "dfbarchart = dfbarchart.sort_values(by='Count of Category', ascending=False)\n",
    "\n",
    "# Set simple barchart with seaborn\n",
    "ax = sns.barplot(x='Category', y='Count of Category', data=dfbarchart, palette=\"hls\")\n",
    "ax.set_title('Count of Categories found in Dataset')\n",
    "\n",
    "for p in ax.patches:\n",
    "    ax.annotate(int(p.get_height()), \n",
    "                   (p.get_x() + p.get_width() / 2, p.get_height()), \n",
    "                   ha = 'center', va = 'center', \n",
    "                   xytext = (0, 9), \n",
    "                   textcoords = 'offset points')\n",
    "    \n",
    "ax.set(ylim=(0, 600))\n",
    "ax.set_ylabel('Count of Category', fontsize = 12)\n",
    "ax.set_xlabel('Category', fontsize = 12)\n",
    "\n"
   ]
  },
  {
   "cell_type": "markdown",
   "metadata": {},
   "source": [
    "## One Hot Encoding for Category"
   ]
  },
  {
   "cell_type": "code",
   "execution_count": 21,
   "metadata": {},
   "outputs": [
    {
     "data": {
      "text/html": [
       "<div>\n",
       "<style scoped>\n",
       "    .dataframe tbody tr th:only-of-type {\n",
       "        vertical-align: middle;\n",
       "    }\n",
       "\n",
       "    .dataframe tbody tr th {\n",
       "        vertical-align: top;\n",
       "    }\n",
       "\n",
       "    .dataframe thead th {\n",
       "        text-align: right;\n",
       "    }\n",
       "</style>\n",
       "<table border=\"1\" class=\"dataframe\">\n",
       "  <thead>\n",
       "    <tr style=\"text-align: right;\">\n",
       "      <th></th>\n",
       "      <th>text</th>\n",
       "      <th>business</th>\n",
       "      <th>entertainment</th>\n",
       "      <th>politics</th>\n",
       "      <th>sport</th>\n",
       "      <th>tech</th>\n",
       "    </tr>\n",
       "  </thead>\n",
       "  <tbody>\n",
       "    <tr>\n",
       "      <th>0</th>\n",
       "      <td>tv future hands viewers home theatre systems p...</td>\n",
       "      <td>0</td>\n",
       "      <td>0</td>\n",
       "      <td>0</td>\n",
       "      <td>0</td>\n",
       "      <td>1</td>\n",
       "    </tr>\n",
       "    <tr>\n",
       "      <th>1</th>\n",
       "      <td>worldcom boss left books alone former worldcom...</td>\n",
       "      <td>1</td>\n",
       "      <td>0</td>\n",
       "      <td>0</td>\n",
       "      <td>0</td>\n",
       "      <td>0</td>\n",
       "    </tr>\n",
       "  </tbody>\n",
       "</table>\n",
       "</div>"
      ],
      "text/plain": [
       "                                                text  business  entertainment  \\\n",
       "0  tv future hands viewers home theatre systems p...         0              0   \n",
       "1  worldcom boss left books alone former worldcom...         1              0   \n",
       "\n",
       "   politics  sport  tech  \n",
       "0         0      0     1  \n",
       "1         0      0     0  "
      ]
     },
     "execution_count": 21,
     "metadata": {},
     "output_type": "execute_result"
    }
   ],
   "source": [
    "\n",
    "df = pd.get_dummies(df, columns=['category'], prefix='', prefix_sep='')\n",
    "df.head(2)"
   ]
  },
  {
   "cell_type": "markdown",
   "metadata": {},
   "source": [
    "## Convert Data to Numpy Array"
   ]
  },
  {
   "cell_type": "code",
   "execution_count": 22,
   "metadata": {},
   "outputs": [
    {
     "name": "stdout",
     "output_type": "stream",
     "text": [
      "['tv future hands viewers home theatre systems plasma high definition tvs digital video recorders moving living room way people watch tv radically different five years time according expert panel gathered annual consumer electronics show las vegas discuss new technologies impact one favourite pastimes us leading trend programmes content delivered viewers via home networks cable satellite telecoms companies broadband service providers front rooms portable devices one talked technologies ces digital personal video recorders dvr pvr set top boxes like us tivo uk sky system allow people record store play pause forward wind tv programmes want essentially technology allows much personalised tv also built high definition tv sets big business japan us slower take europe lack high definition programming people forward wind adverts also forget abiding network channel schedules putting together la carte entertainment us networks cable satellite companies worried means terms advertising revenues well brand identity viewer loyalty channels although us leads technology moment also concern raised europe particularly growing uptake services like sky happens today see nine months years time uk adam hume bbc broadcast futurologist told bbc news website likes bbc issues lost advertising revenue yet pressing issue moment commercial uk broadcasters brand loyalty important everyone talking content brands rather network brands said tim hanlon brand communications firm starcom mediavest reality broadband connections anybody producer content added challenge hard promote programme much choice means said stacey jolna senior vice president tv guide tv group way people find content want watch simplified tv viewers means networks us terms channels could take leaf google book search engine future instead scheduler help people find want watch kind channel model might work younger ipod generation used taking control gadgets play might suit everyone panel recognised older generations comfortable familiar schedules channel brands know getting perhaps want much choice put hands mr hanlon suggested end kids diapers pushing buttons already everything possible available said mr hanlon ultimately consumer tell market want new gadgets technologies showcased ces many enhancing tv watching experience high definition tv sets everywhere many new models lcd liquid crystal display tvs launched dvr capability built instead external boxes one example launched show humax inch lcd tv hour tivo dvr dvd recorder one us biggest satellite tv companies directtv even launched branded dvr show hours recording capability instant replay search function set pause rewind tv hours microsoft chief bill gates announced pre show keynote speech partnership tivo called tivotogo means people play recorded programmes windows pcs mobile devices reflect increasing trend freeing multimedia people watch want want'\n",
      " 'worldcom boss left books alone former worldcom boss bernie ebbers accused overseeing bn bn fraud never made accounting decisions witness told jurors david myers made comments questioning defence lawyers arguing mr ebbers responsible worldcom problems phone company collapsed prosecutors claim losses hidden protect firm shares mr myers already pleaded guilty fraud assisting prosecutors monday defence lawyer reid weingarten tried distance client allegations cross examination asked mr myers ever knew mr ebbers make accounting decision aware mr myers replied ever know mr ebbers make accounting entry worldcom books mr weingarten pressed replied witness mr myers admitted ordered false accounting entries request former worldcom chief financial officer scott sullivan defence lawyers trying paint mr sullivan admitted fraud testify later trial mastermind behind worldcom accounting house cards mr ebbers team meanwhile looking portray affable boss admission pe graduate economist whatever abilities mr ebbers transformed worldcom relative unknown bn telecoms giant investor darling late worldcom problems mounted however competition increased telecoms boom petered firm finally collapsed shareholders lost bn workers lost jobs mr ebbers trial expected last two months found guilty former ceo faces substantial jail sentence firmly declared innocence'\n",
      " 'tigers wary farrell gamble leicester say rushed making bid andy farrell great britain rugby league captain decide switch codes anybody else involved process still way away going next stage tigers boss john wells told bbc radio leicester moment still lot unknowns andy farrell least medical situation whoever take going take big big gamble farrell persistent knee problems operation knee five weeks ago expected another three months leicester saracens believed head list rugby union clubs interested signing farrell decides move man game move across union wells believes would better playing backs least initially sure could make step league union involved centre said wells think england would prefer progress position back row make use rugby league skills within forwards jury whether cross divide club balance struck cost gamble option bringing ready made replacement'\n",
      " ...\n",
      " 'rem announce new glasgow concert us band rem announced plans perform scottish fans rescheduled gig band play dubbed europe biggest tent glasgow green tuesday june forced pull concert secc glasgow last month bassist mike mills contracted flu fans bought tickets original february show attend rescheduled concert june gig act warm rem open air concert balloch castle country park banks loch lomond four days later promoters regular music booked glasgow green secc available suitable date mark mackie director regular music said fantastic news really shows rem commitment scottish fans coming back glasgow truly unique gig rem gigs kick start promises memorable summer scottish music lovers grammy award winners u play hampden june oasis also perform national stadium glasgow june coldplay announced concert bellahouston park glasgow july park held balado near kinross july ticketweb secc box office write customers bought tickets february gig asking want attend new show bought tickets person urged return point purchase anyone cannot make concert given refund cut date swapping tickets april remaining go sale public'\n",
      " 'political squabbles snowball become commonplace argue blair brown like squabbling school kids supporters need grow stop bickering analysis fact gets wrong children fight adults solid reasons even trivial argument mature protagonists hard stop got going key feature endless feud everyone agree better ended everyone wants last word participant genuinely wants row stop thinks worth prolonging argument tiny bit ensure view heard successive attempts end argument last word ensure argument goes case mr blair mr brown successive books published ensuring issues never die participants stupid actually individual behaving entirely rationally given incentives facing indeed even piece economic theory explains nothing obscure post neo classical endogenous growth theory chancellor quoted ubiquitous piece game theory respectable policy wonks familiar often referred prisoner dilemma based parable much told economics degree courses sheriff two prisoners story goes two prisoners jointly charged heinous crime locked separate cells sheriff desperately needs confession least one provide enough evidence convict crime without confession prisoners get minimal sentence trumped charge clearly prisoners best strategy keep mouths shut take short sentence clever sheriff idea induce talk tells prisoner separately confess one confess let crime tells confess one confess get life prisoner confronted choice best bet confess partner confess get completely partner confess better confess ensure get life result course prisoners confess sheriff let either one prisoners individual logic behave way even though would better somehow agreed shut worry entirely follow look google entries prisoners dilemma ramifications truly captured economists last couple decades parable used describe situation obvious sensible choice taken collectively rational choice individually behave selfishly cold war arms race example classic case russia america would better arms rather lot arms long wants arms arms race ensues results individually logical decision buy arms results arms levels high economics tells us prisoners dilemma unless repeating experience many times hard escape perverse logic good exhorting people stop buying arms stop arguing incentives encourage carry somehow incentives change case labour party believe rift blair brown camps bad reports suggest solomon wisdom needs deployed solve problem every parent knows ingenious solutions arguments solutions affect incentives participants example famous rule one divides chooses way allocating piece cake sliced greedy children case apparently endless argument want come end ensure person last word one loses rather one wins row cost prolonging row even one briefing one book matter exceed benefit last word getting point rest party enforce protagonists retreating pretty quickly'\n",
      " 'souness delight euro progress boss graeme souness felt newcastle never really danger going uefa cup heerenveen early goal followed alan shearer strike earned win place uefa cup last obviously winning first leg gave us great advantage said aggregate victory got goals early minds players job done got goal perhaps made us bit nervous shearer goal moved within jackie milburn club scoring record magpies souness said think beating record would bearing decision retire end season think got year would want stay next year anyway added struck ball well always done think power pace beat goalkeeper souness also paid tribute laurent robert heart much united attacking play first half really well everything want wide player future please said']\n",
      "[[0 0 0 0 1]\n",
      " [1 0 0 0 0]\n",
      " [0 0 0 1 0]\n",
      " ...\n",
      " [0 1 0 0 0]\n",
      " [0 0 1 0 0]\n",
      " [0 0 0 1 0]]\n"
     ]
    }
   ],
   "source": [
    "# Separate description and label into different variables \n",
    "\n",
    "description = df['text'].values\n",
    "label = df[['business', 'entertainment', 'politics', 'sport', 'tech']].values\n",
    "\n",
    "print(description)\n",
    "print(label)"
   ]
  },
  {
   "cell_type": "markdown",
   "metadata": {},
   "source": [
    "## Set Tokenizer"
   ]
  },
  {
   "cell_type": "code",
   "execution_count": 23,
   "metadata": {},
   "outputs": [
    {
     "name": "stdout",
     "output_type": "stream",
     "text": [
      "Found 27768 unique tokens.\n"
     ]
    }
   ],
   "source": [
    "# Set tokenizer\n",
    "tokenizer = Tokenizer(num_words=50000, oov_token='x', filters='!\"#$%&()*+,-./:;<=>?@[\\]^_`{|}~', lower=True)\n",
    "\n",
    "# Tokenization on description text\n",
    "tokenizer.fit_on_texts(description)\n",
    "\n",
    "word_index = tokenizer.word_index\n",
    "print('Found %s unique tokens.' % len(word_index))"
   ]
  },
  {
   "cell_type": "markdown",
   "metadata": {},
   "source": [
    "## Change Text to Sequences"
   ]
  },
  {
   "cell_type": "code",
   "execution_count": 25,
   "metadata": {},
   "outputs": [],
   "source": [
    "sequences = tokenizer.texts_to_sequences(description)"
   ]
  },
  {
   "cell_type": "markdown",
   "metadata": {},
   "source": [
    "## Padding"
   ]
  },
  {
   "cell_type": "code",
   "execution_count": 26,
   "metadata": {},
   "outputs": [],
   "source": [
    "padded_seq = pad_sequences(sequences, maxlen=3000)"
   ]
  },
  {
   "cell_type": "markdown",
   "metadata": {},
   "source": [
    "## Separate Training and Testing Data"
   ]
  },
  {
   "cell_type": "code",
   "execution_count": 27,
   "metadata": {},
   "outputs": [
    {
     "name": "stdout",
     "output_type": "stream",
     "text": [
      "(1780, 3000) (1780, 5)\n",
      "(445, 3000) (445, 5)\n"
     ]
    }
   ],
   "source": [
    "# Using 20% validation set\n",
    "description_train, description_test, label_train, label_test = train_test_split(padded_seq, label, test_size=0.2, random_state=42)\n",
    "\n",
    "print(description_train.shape,label_train.shape)\n",
    "print(description_test.shape,label_test.shape)"
   ]
  },
  {
   "cell_type": "markdown",
   "metadata": {},
   "source": [
    "## Setup Model\n",
    "\n",
    "Setup model sequential with Embedding, LSTM, and Dropout."
   ]
  },
  {
   "cell_type": "code",
   "execution_count": 28,
   "metadata": {},
   "outputs": [],
   "source": [
    "model = tf.keras.Sequential([\n",
    "    tf.keras.layers.Embedding(50000,100,input_length=3000),\n",
    "    tf.keras.layers.SpatialDropout1D(0.2),\n",
    "    tf.keras.layers.LSTM(100, dropout=0.2, recurrent_dropout=0.2),\n",
    "    tf.keras.layers.Dense(5, activation='softmax')\n",
    "])"
   ]
  },
  {
   "cell_type": "code",
   "execution_count": 29,
   "metadata": {},
   "outputs": [
    {
     "name": "stdout",
     "output_type": "stream",
     "text": [
      "Model: \"sequential\"\n",
      "_________________________________________________________________\n",
      " Layer (type)                Output Shape              Param #   \n",
      "=================================================================\n",
      " embedding (Embedding)       (None, 3000, 100)         5000000   \n",
      "                                                                 \n",
      " spatial_dropout1d (SpatialD  (None, 3000, 100)        0         \n",
      " ropout1D)                                                       \n",
      "                                                                 \n",
      " lstm (LSTM)                 (None, 100)               80400     \n",
      "                                                                 \n",
      " dense (Dense)               (None, 5)                 505       \n",
      "                                                                 \n",
      "=================================================================\n",
      "Total params: 5,080,905\n",
      "Trainable params: 5,080,905\n",
      "Non-trainable params: 0\n",
      "_________________________________________________________________\n"
     ]
    }
   ],
   "source": [
    "# Compile model with specified loss and optimizer\n",
    "model.compile(loss='categorical_crossentropy', optimizer='adam', metrics=['accuracy'])\n",
    "model.summary()"
   ]
  },
  {
   "cell_type": "markdown",
   "metadata": {},
   "source": [
    "## Callback"
   ]
  },
  {
   "cell_type": "code",
   "execution_count": 30,
   "metadata": {},
   "outputs": [],
   "source": [
    "class myCallback(tf.keras.callbacks.Callback):\n",
    "    def on_epoch_end(self, epoch, logs={}):\n",
    "        if(logs.get('accuracy')>0.90 and logs.get('val_accuracy')>0.90):\n",
    "            print(\"\\Accuracy has reached 90%, training will be stoped!\")\n",
    "            self.model.stop_training=True\n",
    "callbacks = myCallback()\n"
   ]
  },
  {
   "cell_type": "markdown",
   "metadata": {},
   "source": [
    "## Fit Model"
   ]
  },
  {
   "cell_type": "code",
   "execution_count": 32,
   "metadata": {},
   "outputs": [
    {
     "name": "stdout",
     "output_type": "stream",
     "text": [
      "Epoch 1/30\n",
      "56/56 - 1688s - loss: 1.5685 - accuracy: 0.3517 - val_loss: 1.4459 - val_accuracy: 0.4494 - 1688s/epoch - 30s/step\n",
      "Epoch 2/30\n",
      "56/56 - 2713s - loss: 0.8889 - accuracy: 0.7579 - val_loss: 0.8495 - val_accuracy: 0.7528 - 2713s/epoch - 48s/step\n",
      "Epoch 3/30\n",
      "56/56 - 3574s - loss: 0.3995 - accuracy: 0.9107 - val_loss: 0.3583 - val_accuracy: 0.8876 - 3574s/epoch - 64s/step\n",
      "Epoch 4/30\n",
      "\\Accuracy has reached 90%, training will be stoped!\n",
      "56/56 - 3784s - loss: 0.0801 - accuracy: 0.9871 - val_loss: 0.3372 - val_accuracy: 0.9056 - 3784s/epoch - 68s/step\n"
     ]
    }
   ],
   "source": [
    "num_epochs = 30\n",
    "history = model.fit(description_train, label_train, epochs=num_epochs, \n",
    "                    validation_data=(description_test, label_test), verbose=2, callbacks=[callbacks])"
   ]
  },
  {
   "cell_type": "markdown",
   "metadata": {},
   "source": [
    "## Display Plot Loss and Accuracy for Train and Validation"
   ]
  },
  {
   "cell_type": "code",
   "execution_count": 45,
   "metadata": {},
   "outputs": [
    {
     "data": {
      "image/png": "[encoded data removed]",
      "text/plain": [
       "<Figure size 432x288 with 1 Axes>"
      ]
     },
     "metadata": {
      "needs_background": "light"
     },
     "output_type": "display_data"
    },
    {
     "data": {
      "image/png": "[encoded data removed]",
      "text/plain": [
       "<Figure size 432x288 with 1 Axes>"
      ]
     },
     "metadata": {
      "needs_background": "light"
     },
     "output_type": "display_data"
    }
   ],
   "source": [
    "# Accuracy Plot\n",
    "acc = history.history['accuracy']\n",
    "val_acc = history.history['val_accuracy']\n",
    "loss = history.history['loss']\n",
    "val_loss = history.history['val_loss']\n",
    "epochs = range(1, len(acc) + 1)\n",
    "\n",
    "plt.plot(epochs, acc, 'b', label='Training Acc')\n",
    "plt.plot(epochs, val_acc, 'g', label='Validation Acc')\n",
    "plt.xlabel('Epochs')\n",
    "plt.ylabel('Accuracy')\n",
    "\n",
    "plt.title('Training and Validation Accuracy')\n",
    "plt.legend()\n",
    "fig = plt.figure()\n",
    "fig.savefig('acc.png')\n",
    "\n",
    "# Training Plot\n",
    "plt.plot(epochs, loss, 'b', label='Training Loss')\n",
    "plt.plot(epochs, val_loss, 'g', label='Validation Loss')\n",
    "plt.xlabel('Epochs')\n",
    "plt.ylabel('Loss')\n",
    "plt.title('Training and Validation Loss')\n",
    "\n",
    "plt.legend()\n",
    "plt.show()"
   ]
  },
  {
   "cell_type": "markdown",
   "metadata": {},
   "source": [
    "## Test Predict News Articles"
   ]
  },
  {
   "cell_type": "code",
   "execution_count": 40,
   "metadata": {},
   "outputs": [
    {
     "name": "stdout",
     "output_type": "stream",
     "text": [
      "1/1 [==============================] - 0s 253ms/step\n",
      "[[1.9721575e-03 9.7876066e-01 2.0878385e-03 4.7897978e-04 1.6700421e-02]] Entertainment\n"
     ]
    }
   ],
   "source": [
    "import numpy as np\n",
    "new_complaint = ['On the shore of the Red Sea, the forward-thinking town of El Gouna was founded with a mission: to do its part to protect the environment.']\n",
    "seq = tokenizer.texts_to_sequences(new_complaint)\n",
    "padded = pad_sequences(seq, maxlen=3000)\n",
    "pred = model.predict(padded)\n",
    "labels = ['Business','Entertainment','Politics','Sports','Tech']\n",
    "print(pred, labels[np.argmax(pred)])"
   ]
  }
 ],
 "metadata": {
  "kernelspec": {
   "display_name": "Python 3.9.12 ('base')",
   "language": "python",
   "name": "python3"
  },
  "language_info": {
   "codemirror_mode": {
    "name": "ipython",
    "version": 3
   },
   "file_extension": ".py",
   "mimetype": "text/x-python",
   "name": "python",
   "nbconvert_exporter": "python",
   "pygments_lexer": "ipython3",
   "version": "3.9.12"
  },
  "orig_nbformat": 4,
  "vscode": {
   "interpreter": {
    "hash": "ad2bdc8ecc057115af97d19610ffacc2b4e99fae6737bb82f5d7fb13d2f2c186"
   }
  }
 },
 "nbformat": 4,
 "nbformat_minor": 2
}
